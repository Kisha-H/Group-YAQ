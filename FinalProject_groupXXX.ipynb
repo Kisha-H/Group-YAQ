{
 "cells": [
  {
   "cell_type": "markdown",
   "metadata": {},
   "source": [
    "# COGS 118B - Final Project"
   ]
  },
  {
   "cell_type": "markdown",
   "metadata": {},
   "source": [
    "# Climate Change Belief Twitter Analysis\n",
    "\n",
    "## Group members\n",
    "- Yudong Chen\n",
    "- Alexander Zhou\n",
    "- Qianxia Hui"
   ]
  },
  {
   "cell_type": "markdown",
   "metadata": {},
   "source": [
    "# Abstract \n",
    "Our project aims to explore public sentiments and stances towards climate change through a comprehensive analysis of over 15 million tweets collected over 13 years. The data we use encapsulates a wide range of aspects of the tweets data, including stance on climate change, sentiment of the message, aggressiveness, temperature at the time and place, gender of the sender, topic categories, and natural disasters that occurred within the timeframe. By employing unsupervised clustering models like K-means, Gaussian Mixture, and hierarchical clustering, our research seeks to identify distinct clusters within the dataset, thereby uncovering patterns and characteristics that correlate with public opinion on climate change. The performance of our analysis will be measured using metrics such as silhouette scores, adjusted rand indexes, and statistical tests like t-test to evaluate the alignment of the clusters with the true labels. We are also meticulously considering ethical and privacy issues, ensuring the anonymity and privacy of individuals in the dataset and adhering to ethical guidelines in data analysis. "
   ]
  },
  {
   "cell_type": "markdown",
   "metadata": {},
   "source": [
    "# Background\n",
    "\n",
    "The climate issue has been an increasingly urgent concern in today's world. The IPCC report in 2021 indicates a critical threshold: Earth's temperature has already increased by approximately 1.1 degrees Celsius above pre-industrial levels <a name=\"ipcc\"></a>[<sup>[1]</sup>](#ipccnote). This single fact captures the severity of the impending climate crisis, which has undoubtedly become a popular topic in public conversation. Our research builds on a growing volume of work evaluating this public sentiment and opinion on climate change via social media platforms, particularly Twitter, and our interest derives from the importance of public engagement in social issues and the need to understand how the public perceives climate change issues today. Recent studies have used large datasets collected from social media platforms to reveal trends, feelings, and stances on climate change, demonstrating the potential of social media as a lens to see the global debate on this crucial topic.\n",
    "\n",
    "Our research draws on a comprehensive dataset described in a foundational paper, which examined over 15 million tweets about climate change collected over 13 years <a name=\"article2\"></a>[<sup>[2]</sup>](#article2note). This dataset contains a variety of characteristics, including sentiment, attitude on climate change, gender, geographic location, and themes covered, among others. The investigation revealed important insights into how public opinion on climate change evolved - specifically the debate between climate change believers and deniers - revealing trends across demographics and geographic regions. It also highlighted the impact of major environmental disasters on public discourse, as well as how people's attitudes can vary with demographic factors and local temperature anomalies.\n",
    "\n",
    "Another crucial study focuses on examining the dataset in depth, concentrating on the data collecting and preprocessing procedures <a name=\"article3\"></a>[<sup>[3]</sup>](#article3note). It provides a comprehensive description and analysis of the different variables of the dataset. It also stressed the use of powerful machine learning techniques, such as BERT, LSTM, and CNN, to process and analyze data, including sentiment analysis, stance detection, and topic modeling. This study emphasized the necessity of a multidimensional approach to understanding the complex dynamics of climate change discourse on Twitter, providing a solid foundation for future research in this field.\n",
    "\n",
    "These key studies demonstrate the importance of social media analysis in capturing the nuanced perspectives of the global population on climate change. They also set a precedent for using advanced computational approaches to analyze the large amounts of data collected on platforms such as Twitter, providing essential insights into public feelings, views, and reactions to climate change-related events. Our research aims to advance this line of investigation by using unsupervised learning approaches to categorize climate change feelings and stances, contributing to a more in-depth, data-driven understanding of public discourse on this critical global problem.\n"
   ]
  },
  {
   "cell_type": "markdown",
   "metadata": {},
   "source": [
    "# Problem Statement\n",
    "\n",
    "> Does location and average temperature deviation correlate strongly with sentiments about climate change on twitter?\n",
    "\n",
    "We tackle the challenge of uncovering patterns in public sentiments and stances towards climate change, as expressed in a comprehensive dataset of over 15 million tweets collected over 13 years. The problem lies in categorizing these sentiments and stances without predefined labels, necessitating the use of unsupervised learning techniques to identify naturally occurring clusters within the data. This involves quantitatively analyzing tweets to extract features such as sentiment polarity (ranging from negative to positive), stance on climate change (supporting, denying, or neutral), and associating these opinions with demographic (gender) and geographical data (origin of tweets). The core challenge is to transform the subjective, nuanced nature of individual tweets into a structured format that can be analyzed to reveal insights into global public opinion on climate change.\n",
    "\n",
    "Our approach is quantifiable, employing numerical representations of sentiments and leveraging unsupervised clustering algorithms to organize tweets into meaningful groups. This clustering will allow us to measure the distribution of opinions across different demographics and geographies, assess the prominence of certain sentiments, and identify any patterns or trends that emerge from the data. The project is measurable through the application of metrics such as silhouette scores, which evaluate the cohesion and separation of the clusters formed. Replicability is ensured by the dataset's scale and diversity, allowing the methodology and findings to be validated or extended in future research. By addressing this problem, the project aims to provide a granular, data-driven understanding of public sentiment towards climate change, highlighting the role of unsupervised machine learning in extracting actionable insights from unstructured social media data."
   ]
  },
  {
   "cell_type": "markdown",
   "metadata": {},
   "source": [
    "# Data\n",
    "\n",
    "We will be using the following dataset for our analysis: [link](https://www.kaggle.com/datasets/deffro/the-climate-change-twitter-dataset)\n",
    "\n",
    "In total, the dataset has 15,789,411 rows and 10 columns with each row representing an individual tweet recorded. Of the 10 columns, 8 of them are of interest: lng, lat, topic, sentiment, stance, gender, temperature_avg, and aggressiveness. \n",
    "The lng and lat columns are continuous values that record the geographical location of the tweet, i.e. where the user is from. The topic column categorizes the tweet into one of ten semantic categories based on clustering by an LDA algorithm. The sentiment column rates the negative and positive sentiment of the tweet on a scale from -1 to 1 with 0 being neutral. The stance column indicates whether the tweet supports, rejects, or is neutral towards man-made climate change. The temperature_avg column records the deviation of temperature in celsius at the location the tweet was made in compared to the 1951 to 1980 average temperature. Finally, aggressiveness is a binary column that indicates whether the tweet contains aggressive language or not. \n",
    "\n",
    "As the data currently stands, a majority of the data is missing in the lng and lat columns. While we can try to impute the missing values, simply dropping null rows will still leave 5,307,538 rows in the dataset that we can use. The other columns are not as unfilled, and it should be fine to either impute the missing values or drop null rows as needed. \n",
    "\n",
    "For the purposes of doing clustering analysis on the dataset, we will also want to standard scale all the numerical variables and one-hot encode all the categorical variables. Otherwise the data is fairly robust and maintained. \n"
   ]
  },
  {
   "cell_type": "markdown",
   "metadata": {},
   "source": [
    "# Proposed Solution\n",
    "\n",
    "We propose to use unsupervised clustering models such as K-means, Gaussian Mixture, and hierarchical models to identify unique clusters of tweets within the dataset using existing variables that measure the sentiment, semantics, location, and more about the tweet. Then, by analyzing the stance of the clusters to see if any clusters are particularly in belief or disbelief of climate change, we will hopefully be able to identify characteristics of the demographic that correlate or relate to their belief in man-made climate change.\n",
    "\n",
    "Specifically, we plan to utilize the sci-kit learn library to first preprocess the data using pipelines, encoders, scalers, and more. We will separate out the stance column and treat it as our final Y variable. Then, once the data has been standardized and cleaned, we will use the library’s various clustering model implementations in order to test various methods of clustering and see whether specific clusters are good predictors of stance on climate change. If a specific cluster is largely in belief of climate change for example, we can then isolate and analyze the cluster to see what makes it unique. For example, users from a particular country may believe more in climate change than users from other countries. We can also use dimensionality reduction methods such as PCA to visualize the clusters in a graph to aid in exploratory analysis. \n",
    "\n",
    "Once we have identified certain hypotheses from the clustering analysis, we can then test them statistically to confirm the validity of the hypothesized relationships.\n"
   ]
  },
  {
   "cell_type": "markdown",
   "metadata": {},
   "source": [
    "# Evaluation Metrics\n",
    "\n",
    "Since we have the true labels, namely the stance of the user behind the tweet, we can use that as the ground truth clustering to compare against the results from our own clustering. This can be evaluated using metrics such as the rand and adjusted rand index that measure how similar the clusterings are in terms of how many pairings agree with each other compared to all possible pairings. The adjusted rand index accounts for random chance clustering as a baseline for the expected score. If the data is convex, we can also use other metrics such as the silhouette score, which compares the mean distance between points to their cluster’s mean and the mean distance between points to the nearest other cluster’s mean, to measure cluster quality. These measures will help us determine how well the clustering aligns with the true labels and whether they can be utilized to identify demographics that relate to belief in climate change.  \n",
    "\n",
    "Once we have identified predictor variables for stance on climate change, we can then utilize statistical tests like the t-test or analysis libraries like statsmodels and more to evaluate the relationship between the variables. \n"
   ]
  },
  {
   "cell_type": "markdown",
   "metadata": {},
   "source": [
    "# Results"
   ]
  },
  {
   "cell_type": "markdown",
   "metadata": {},
   "source": [
    "### Data Preprocessing"
   ]
  },
  {
   "cell_type": "code",
   "execution_count": 1,
   "metadata": {
    "tags": []
   },
   "outputs": [],
   "source": [
    "import numpy as np\n",
    "import pandas as pd\n",
    "import matplotlib.pyplot as plt\n",
    "import seaborn as sns\n",
    "import reverse_geocoder as rg"
   ]
  },
  {
   "cell_type": "code",
   "execution_count": 7,
   "metadata": {
    "tags": []
   },
   "outputs": [],
   "source": [
    "data = pd.read_csv('data/climate_change.csv')"
   ]
  },
  {
   "cell_type": "code",
   "execution_count": 8,
   "metadata": {
    "tags": []
   },
   "outputs": [
    {
     "data": {
      "text/html": [
       "<div>\n",
       "<style scoped>\n",
       "    .dataframe tbody tr th:only-of-type {\n",
       "        vertical-align: middle;\n",
       "    }\n",
       "\n",
       "    .dataframe tbody tr th {\n",
       "        vertical-align: top;\n",
       "    }\n",
       "\n",
       "    .dataframe thead th {\n",
       "        text-align: right;\n",
       "    }\n",
       "</style>\n",
       "<table border=\"1\" class=\"dataframe\">\n",
       "  <thead>\n",
       "    <tr style=\"text-align: right;\">\n",
       "      <th></th>\n",
       "      <th>created_at</th>\n",
       "      <th>id</th>\n",
       "      <th>lng</th>\n",
       "      <th>lat</th>\n",
       "      <th>topic</th>\n",
       "      <th>sentiment</th>\n",
       "      <th>stance</th>\n",
       "      <th>gender</th>\n",
       "      <th>temperature_avg</th>\n",
       "      <th>aggressiveness</th>\n",
       "    </tr>\n",
       "  </thead>\n",
       "  <tbody>\n",
       "    <tr>\n",
       "      <th>0</th>\n",
       "      <td>2006-06-06 16:06:42+00:00</td>\n",
       "      <td>6132</td>\n",
       "      <td>NaN</td>\n",
       "      <td>NaN</td>\n",
       "      <td>Weather Extremes</td>\n",
       "      <td>-0.097180</td>\n",
       "      <td>neutral</td>\n",
       "      <td>female</td>\n",
       "      <td>NaN</td>\n",
       "      <td>aggressive</td>\n",
       "    </tr>\n",
       "    <tr>\n",
       "      <th>1</th>\n",
       "      <td>2006-07-23 21:52:30+00:00</td>\n",
       "      <td>13275</td>\n",
       "      <td>-73.949582</td>\n",
       "      <td>40.650104</td>\n",
       "      <td>Weather Extremes</td>\n",
       "      <td>0.575777</td>\n",
       "      <td>neutral</td>\n",
       "      <td>undefined</td>\n",
       "      <td>-1.114768</td>\n",
       "      <td>aggressive</td>\n",
       "    </tr>\n",
       "    <tr>\n",
       "      <th>2</th>\n",
       "      <td>2006-08-29 01:52:30+00:00</td>\n",
       "      <td>23160</td>\n",
       "      <td>NaN</td>\n",
       "      <td>NaN</td>\n",
       "      <td>Weather Extremes</td>\n",
       "      <td>0.500479</td>\n",
       "      <td>neutral</td>\n",
       "      <td>male</td>\n",
       "      <td>NaN</td>\n",
       "      <td>aggressive</td>\n",
       "    </tr>\n",
       "    <tr>\n",
       "      <th>3</th>\n",
       "      <td>2006-11-07 02:46:52+00:00</td>\n",
       "      <td>57868</td>\n",
       "      <td>NaN</td>\n",
       "      <td>NaN</td>\n",
       "      <td>Weather Extremes</td>\n",
       "      <td>0.032816</td>\n",
       "      <td>neutral</td>\n",
       "      <td>male</td>\n",
       "      <td>NaN</td>\n",
       "      <td>aggressive</td>\n",
       "    </tr>\n",
       "    <tr>\n",
       "      <th>4</th>\n",
       "      <td>2006-11-27 14:27:43+00:00</td>\n",
       "      <td>304553</td>\n",
       "      <td>NaN</td>\n",
       "      <td>NaN</td>\n",
       "      <td>Importance of Human Intervantion</td>\n",
       "      <td>-0.090428</td>\n",
       "      <td>neutral</td>\n",
       "      <td>male</td>\n",
       "      <td>NaN</td>\n",
       "      <td>aggressive</td>\n",
       "    </tr>\n",
       "  </tbody>\n",
       "</table>\n",
       "</div>"
      ],
      "text/plain": [
       "                  created_at      id        lng        lat  \\\n",
       "0  2006-06-06 16:06:42+00:00    6132        NaN        NaN   \n",
       "1  2006-07-23 21:52:30+00:00   13275 -73.949582  40.650104   \n",
       "2  2006-08-29 01:52:30+00:00   23160        NaN        NaN   \n",
       "3  2006-11-07 02:46:52+00:00   57868        NaN        NaN   \n",
       "4  2006-11-27 14:27:43+00:00  304553        NaN        NaN   \n",
       "\n",
       "                              topic  sentiment   stance     gender  \\\n",
       "0                  Weather Extremes  -0.097180  neutral     female   \n",
       "1                  Weather Extremes   0.575777  neutral  undefined   \n",
       "2                  Weather Extremes   0.500479  neutral       male   \n",
       "3                  Weather Extremes   0.032816  neutral       male   \n",
       "4  Importance of Human Intervantion  -0.090428  neutral       male   \n",
       "\n",
       "   temperature_avg aggressiveness  \n",
       "0              NaN     aggressive  \n",
       "1        -1.114768     aggressive  \n",
       "2              NaN     aggressive  \n",
       "3              NaN     aggressive  \n",
       "4              NaN     aggressive  "
      ]
     },
     "execution_count": 8,
     "metadata": {},
     "output_type": "execute_result"
    }
   ],
   "source": [
    "data.head()"
   ]
  },
  {
   "cell_type": "code",
   "execution_count": 9,
   "metadata": {
    "tags": []
   },
   "outputs": [
    {
     "data": {
      "text/plain": [
       "(15789411, 10)"
      ]
     },
     "execution_count": 9,
     "metadata": {},
     "output_type": "execute_result"
    }
   ],
   "source": [
    "data.shape"
   ]
  },
  {
   "cell_type": "code",
   "execution_count": 10,
   "metadata": {
    "tags": []
   },
   "outputs": [
    {
     "data": {
      "text/plain": [
       "created_at                0\n",
       "id                        0\n",
       "lng                10481873\n",
       "lat                10481873\n",
       "topic                     0\n",
       "sentiment                 0\n",
       "stance                    0\n",
       "gender                    0\n",
       "temperature_avg    10481873\n",
       "aggressiveness            0\n",
       "dtype: int64"
      ]
     },
     "execution_count": 10,
     "metadata": {},
     "output_type": "execute_result"
    }
   ],
   "source": [
    "data.isna().sum()"
   ]
  },
  {
   "cell_type": "code",
   "execution_count": 11,
   "metadata": {
    "tags": []
   },
   "outputs": [
    {
     "data": {
      "text/plain": [
       "(10481873, 10)"
      ]
     },
     "execution_count": 11,
     "metadata": {},
     "output_type": "execute_result"
    }
   ],
   "source": [
    "data[data.isnull().any(axis=1)].shape"
   ]
  },
  {
   "cell_type": "markdown",
   "metadata": {},
   "source": [
    "10,481,873 rows out of 15,789,411 have null values. Let's drop them."
   ]
  },
  {
   "cell_type": "code",
   "execution_count": 12,
   "metadata": {
    "tags": []
   },
   "outputs": [],
   "source": [
    "data = data[~data.isnull().any(axis=1)]"
   ]
  },
  {
   "cell_type": "code",
   "execution_count": 13,
   "metadata": {
    "tags": []
   },
   "outputs": [
    {
     "data": {
      "text/plain": [
       "(5307538, 10)"
      ]
     },
     "execution_count": 13,
     "metadata": {},
     "output_type": "execute_result"
    }
   ],
   "source": [
    "data.shape"
   ]
  },
  {
   "cell_type": "code",
   "execution_count": 14,
   "metadata": {
    "tags": []
   },
   "outputs": [
    {
     "data": {
      "text/plain": [
       "created_at         0\n",
       "id                 0\n",
       "lng                0\n",
       "lat                0\n",
       "topic              0\n",
       "sentiment          0\n",
       "stance             0\n",
       "gender             0\n",
       "temperature_avg    0\n",
       "aggressiveness     0\n",
       "dtype: int64"
      ]
     },
     "execution_count": 14,
     "metadata": {},
     "output_type": "execute_result"
    }
   ],
   "source": [
    "data.isna().sum()"
   ]
  },
  {
   "cell_type": "markdown",
   "metadata": {},
   "source": [
    "Next we want to convert lng and lat into country."
   ]
  },
  {
   "cell_type": "code",
   "execution_count": 122,
   "metadata": {},
   "outputs": [],
   "source": [
    "# Leave commented to prevent unnecessary re-processing\n",
    "\n",
    "# all_ccs = []\n",
    "# amnt = 100000\n",
    "# for i in range(0, len(data), amnt):\n",
    "#     slice = data.loc[i:i + amnt - 1, ['lat', 'lng']].values.tolist()\n",
    "#     slice = tuple([ tuple(x) for x in slice ])\n",
    "#     locations = rg.search(slice)\n",
    "#     ccs = [location['cc'] for location in locations]\n",
    "#     all_ccs = all_ccs + ccs\n",
    "# assert len(all_ccs) == len(data), 'Country codes should be same length as tweets'\n",
    "# data['country'] = all_ccs"
   ]
  },
  {
   "cell_type": "code",
   "execution_count": 123,
   "metadata": {},
   "outputs": [],
   "source": [
    "# save csv\n",
    "# data.to_csv('data/climate_change_processed.csv')"
   ]
  },
  {
   "cell_type": "code",
   "execution_count": 2,
   "metadata": {
    "tags": []
   },
   "outputs": [],
   "source": [
    "# load processed data\n",
    "# make sure that NA country code doesn't get counted as nan\n",
    "data = pd.read_csv('data/climate_change_processed.csv', keep_default_na=False, na_values=['_'])"
   ]
  },
  {
   "cell_type": "code",
   "execution_count": 3,
   "metadata": {
    "tags": []
   },
   "outputs": [
    {
     "data": {
      "text/plain": [
       "Unnamed: 0.1       0\n",
       "Unnamed: 0         0\n",
       "created_at         0\n",
       "id                 0\n",
       "lng                0\n",
       "lat                0\n",
       "topic              0\n",
       "sentiment          0\n",
       "stance             0\n",
       "gender             0\n",
       "temperature_avg    0\n",
       "aggressiveness     0\n",
       "country            0\n",
       "dtype: int64"
      ]
     },
     "execution_count": 3,
     "metadata": {},
     "output_type": "execute_result"
    }
   ],
   "source": [
    "data.isna().sum()"
   ]
  },
  {
   "cell_type": "code",
   "execution_count": 4,
   "metadata": {
    "tags": []
   },
   "outputs": [
    {
     "data": {
      "text/plain": [
       "(5307538, 13)"
      ]
     },
     "execution_count": 4,
     "metadata": {},
     "output_type": "execute_result"
    }
   ],
   "source": [
    "data.shape"
   ]
  },
  {
   "cell_type": "code",
   "execution_count": 5,
   "metadata": {
    "tags": []
   },
   "outputs": [
    {
     "data": {
      "text/html": [
       "<div>\n",
       "<style scoped>\n",
       "    .dataframe tbody tr th:only-of-type {\n",
       "        vertical-align: middle;\n",
       "    }\n",
       "\n",
       "    .dataframe tbody tr th {\n",
       "        vertical-align: top;\n",
       "    }\n",
       "\n",
       "    .dataframe thead th {\n",
       "        text-align: right;\n",
       "    }\n",
       "</style>\n",
       "<table border=\"1\" class=\"dataframe\">\n",
       "  <thead>\n",
       "    <tr style=\"text-align: right;\">\n",
       "      <th></th>\n",
       "      <th>Unnamed: 0.1</th>\n",
       "      <th>Unnamed: 0</th>\n",
       "      <th>created_at</th>\n",
       "      <th>id</th>\n",
       "      <th>lng</th>\n",
       "      <th>lat</th>\n",
       "      <th>topic</th>\n",
       "      <th>sentiment</th>\n",
       "      <th>stance</th>\n",
       "      <th>gender</th>\n",
       "      <th>temperature_avg</th>\n",
       "      <th>aggressiveness</th>\n",
       "      <th>country</th>\n",
       "    </tr>\n",
       "  </thead>\n",
       "  <tbody>\n",
       "    <tr>\n",
       "      <th>0</th>\n",
       "      <td>0</td>\n",
       "      <td>0</td>\n",
       "      <td>2006-07-23 21:52:30+00:00</td>\n",
       "      <td>13275</td>\n",
       "      <td>-73.949582</td>\n",
       "      <td>40.650104</td>\n",
       "      <td>Weather Extremes</td>\n",
       "      <td>0.575777</td>\n",
       "      <td>neutral</td>\n",
       "      <td>undefined</td>\n",
       "      <td>-1.114768</td>\n",
       "      <td>aggressive</td>\n",
       "      <td>US</td>\n",
       "    </tr>\n",
       "    <tr>\n",
       "      <th>1</th>\n",
       "      <td>1</td>\n",
       "      <td>1</td>\n",
       "      <td>2006-12-14 01:39:10+00:00</td>\n",
       "      <td>1092823</td>\n",
       "      <td>-122.419420</td>\n",
       "      <td>37.774930</td>\n",
       "      <td>Ideological Positions on Global Warming</td>\n",
       "      <td>-0.544195</td>\n",
       "      <td>neutral</td>\n",
       "      <td>male</td>\n",
       "      <td>4.228540</td>\n",
       "      <td>aggressive</td>\n",
       "      <td>US</td>\n",
       "    </tr>\n",
       "    <tr>\n",
       "      <th>2</th>\n",
       "      <td>2</td>\n",
       "      <td>2</td>\n",
       "      <td>2006-12-17 19:43:09+00:00</td>\n",
       "      <td>1278023</td>\n",
       "      <td>-79.791980</td>\n",
       "      <td>36.072640</td>\n",
       "      <td>Weather Extremes</td>\n",
       "      <td>-0.565028</td>\n",
       "      <td>denier</td>\n",
       "      <td>male</td>\n",
       "      <td>5.478175</td>\n",
       "      <td>aggressive</td>\n",
       "      <td>US</td>\n",
       "    </tr>\n",
       "    <tr>\n",
       "      <th>3</th>\n",
       "      <td>3</td>\n",
       "      <td>3</td>\n",
       "      <td>2006-12-21 01:39:01+00:00</td>\n",
       "      <td>1455543</td>\n",
       "      <td>-121.805790</td>\n",
       "      <td>38.004920</td>\n",
       "      <td>Weather Extremes</td>\n",
       "      <td>0.650960</td>\n",
       "      <td>neutral</td>\n",
       "      <td>male</td>\n",
       "      <td>-1.652156</td>\n",
       "      <td>not aggressive</td>\n",
       "      <td>US</td>\n",
       "    </tr>\n",
       "    <tr>\n",
       "      <th>4</th>\n",
       "      <td>4</td>\n",
       "      <td>4</td>\n",
       "      <td>2006-12-31 10:47:25+00:00</td>\n",
       "      <td>1893063</td>\n",
       "      <td>-1.902691</td>\n",
       "      <td>52.479699</td>\n",
       "      <td>Weather Extremes</td>\n",
       "      <td>0.670905</td>\n",
       "      <td>neutral</td>\n",
       "      <td>male</td>\n",
       "      <td>4.864521</td>\n",
       "      <td>aggressive</td>\n",
       "      <td>GB</td>\n",
       "    </tr>\n",
       "  </tbody>\n",
       "</table>\n",
       "</div>"
      ],
      "text/plain": [
       "   Unnamed: 0.1  Unnamed: 0                 created_at       id         lng  \\\n",
       "0             0           0  2006-07-23 21:52:30+00:00    13275  -73.949582   \n",
       "1             1           1  2006-12-14 01:39:10+00:00  1092823 -122.419420   \n",
       "2             2           2  2006-12-17 19:43:09+00:00  1278023  -79.791980   \n",
       "3             3           3  2006-12-21 01:39:01+00:00  1455543 -121.805790   \n",
       "4             4           4  2006-12-31 10:47:25+00:00  1893063   -1.902691   \n",
       "\n",
       "         lat                                    topic  sentiment   stance  \\\n",
       "0  40.650104                         Weather Extremes   0.575777  neutral   \n",
       "1  37.774930  Ideological Positions on Global Warming  -0.544195  neutral   \n",
       "2  36.072640                         Weather Extremes  -0.565028   denier   \n",
       "3  38.004920                         Weather Extremes   0.650960  neutral   \n",
       "4  52.479699                         Weather Extremes   0.670905  neutral   \n",
       "\n",
       "      gender  temperature_avg  aggressiveness country  \n",
       "0  undefined        -1.114768      aggressive      US  \n",
       "1       male         4.228540      aggressive      US  \n",
       "2       male         5.478175      aggressive      US  \n",
       "3       male        -1.652156  not aggressive      US  \n",
       "4       male         4.864521      aggressive      GB  "
      ]
     },
     "execution_count": 5,
     "metadata": {},
     "output_type": "execute_result"
    }
   ],
   "source": [
    "data.head()"
   ]
  },
  {
   "cell_type": "markdown",
   "metadata": {},
   "source": [
    "### Correlation Analysis"
   ]
  },
  {
   "cell_type": "code",
   "execution_count": 6,
   "metadata": {
    "tags": []
   },
   "outputs": [],
   "source": [
    "from sklearn.preprocessing import StandardScaler"
   ]
  },
  {
   "cell_type": "code",
   "execution_count": 7,
   "metadata": {
    "tags": []
   },
   "outputs": [],
   "source": [
    "scaler = StandardScaler()\n",
    "numerical_cols = ['lng', 'lat', 'sentiment', 'temperature_avg']\n",
    "data[numerical_cols] = scaler.fit_transform(data[numerical_cols])"
   ]
  },
  {
   "cell_type": "code",
   "execution_count": 8,
   "metadata": {
    "tags": []
   },
   "outputs": [
    {
     "data": {
      "image/png": "[encoded data removed]",
      "text/plain": [
       "<Figure size 640x480 with 2 Axes>"
      ]
     },
     "metadata": {},
     "output_type": "display_data"
    },
    {
     "name": "stdout",
     "output_type": "stream",
     "text": [
      "stance_numeric     1.000000\n",
      "id                 0.225570\n",
      "Unnamed: 0         0.166651\n",
      "Unnamed: 0.1       0.166651\n",
      "sentiment          0.108173\n",
      "temperature_avg    0.043823\n",
      "lng                0.028414\n",
      "lat                0.005262\n",
      "Name: stance_numeric, dtype: float64\n"
     ]
    }
   ],
   "source": [
    "stance_mapping = {'denier': -1, 'neutral': 0, 'believer': 1}\n",
    "data['stance_numeric'] = data['stance'].map(stance_mapping)\n",
    "\n",
    "numeric_data = data.select_dtypes(include=[np.number])\n",
    "\n",
    "# Now compute the correlation matrix including the new numeric stance column\n",
    "correlation_matrix = numeric_data.corr()\n",
    "\n",
    "# Look for high absolute values in the 'stance_numeric' row/column of the correlation matrix\n",
    "high_correlation = correlation_matrix['stance_numeric'].abs().sort_values(ascending=False)\n",
    "\n",
    "# Visualization of the correlation matrix (Optional)\n",
    "sns.heatmap(correlation_matrix, annot=True, cmap='coolwarm', fmt=\".2f\")\n",
    "plt.title('Correlation Matrix')\n",
    "plt.show()\n",
    "\n",
    "# Print out the high correlations for analysis\n",
    "print(high_correlation)"
   ]
  },
  {
   "cell_type": "markdown",
   "metadata": {},
   "source": [
    "From the Correlation Matrix we can tell that the correlation between stance and average temperature is 0.043823."
   ]
  },
  {
   "cell_type": "markdown",
   "metadata": {},
   "source": [
    "### Clustering - Preprocessing"
   ]
  },
  {
   "cell_type": "markdown",
   "metadata": {},
   "source": [
    "Next, we'll cluster the data and see if we can grasp any insights."
   ]
  },
  {
   "cell_type": "markdown",
   "metadata": {},
   "source": [
    "We need to preprocess the data and encode categorical features"
   ]
  },
  {
   "cell_type": "code",
   "execution_count": 3,
   "metadata": {},
   "outputs": [],
   "source": [
    "from sklearn.compose import ColumnTransformer\n",
    "from sklearn.preprocessing import OneHotEncoder, StandardScaler"
   ]
  },
  {
   "cell_type": "code",
   "execution_count": 4,
   "metadata": {},
   "outputs": [
    {
     "data": {
      "text/plain": [
       "['Unnamed: 0.1',\n",
       " 'Unnamed: 0',\n",
       " 'created_at',\n",
       " 'id',\n",
       " 'lng',\n",
       " 'lat',\n",
       " 'topic',\n",
       " 'sentiment',\n",
       " 'stance',\n",
       " 'gender',\n",
       " 'temperature_avg',\n",
       " 'aggressiveness',\n",
       " 'country']"
      ]
     },
     "execution_count": 4,
     "metadata": {},
     "output_type": "execute_result"
    }
   ],
   "source": [
    "list(data.columns)"
   ]
  },
  {
   "cell_type": "code",
   "execution_count": 5,
   "metadata": {},
   "outputs": [
    {
     "data": {
      "text/plain": [
       "topic\n",
       "Global stance                                 1462525\n",
       "Importance of Human Intervantion               889463\n",
       "Weather Extremes                               761129\n",
       "Politics                                       618945\n",
       "Undefined / One Word Hashtags                  458904\n",
       "Donald Trump versus Science                    333777\n",
       "Seriousness of Gas Emissions                   291323\n",
       "Ideological Positions on Global Warming        176568\n",
       "Impact of Resource Overconsumption             164996\n",
       "Significance of Pollution Awareness Events     149908\n",
       "Name: count, dtype: int64"
      ]
     },
     "execution_count": 5,
     "metadata": {},
     "output_type": "execute_result"
    }
   ],
   "source": [
    "data['topic'].value_counts()"
   ]
  },
  {
   "cell_type": "code",
   "execution_count": 6,
   "metadata": {},
   "outputs": [
    {
     "data": {
      "text/plain": [
       "gender\n",
       "male         3485846\n",
       "female       1659423\n",
       "undefined     162269\n",
       "Name: count, dtype: int64"
      ]
     },
     "execution_count": 6,
     "metadata": {},
     "output_type": "execute_result"
    }
   ],
   "source": [
    "data['gender'].value_counts()"
   ]
  },
  {
   "cell_type": "code",
   "execution_count": 7,
   "metadata": {},
   "outputs": [
    {
     "data": {
      "text/plain": [
       "stance\n",
       "believer    3947378\n",
       "neutral      994843\n",
       "denier       365317\n",
       "Name: count, dtype: int64"
      ]
     },
     "execution_count": 7,
     "metadata": {},
     "output_type": "execute_result"
    }
   ],
   "source": [
    "data['stance'].value_counts()"
   ]
  },
  {
   "cell_type": "code",
   "execution_count": 8,
   "metadata": {},
   "outputs": [
    {
     "data": {
      "text/plain": [
       "aggressiveness\n",
       "not aggressive    3774449\n",
       "aggressive        1533089\n",
       "Name: count, dtype: int64"
      ]
     },
     "execution_count": 8,
     "metadata": {},
     "output_type": "execute_result"
    }
   ],
   "source": [
    "data['aggressiveness'].value_counts()"
   ]
  },
  {
   "cell_type": "code",
   "execution_count": 9,
   "metadata": {},
   "outputs": [],
   "source": [
    "data['aggressive_numeric'] = data['aggressiveness'].apply(lambda x: 1 if x == 'aggressive' else 0)"
   ]
  },
  {
   "cell_type": "code",
   "execution_count": 10,
   "metadata": {},
   "outputs": [
    {
     "data": {
      "text/plain": [
       "aggressive_numeric\n",
       "0    3774449\n",
       "1    1533089\n",
       "Name: count, dtype: int64"
      ]
     },
     "execution_count": 10,
     "metadata": {},
     "output_type": "execute_result"
    }
   ],
   "source": [
    "data['aggressive_numeric'].value_counts()"
   ]
  },
  {
   "cell_type": "code",
   "execution_count": 17,
   "metadata": {},
   "outputs": [],
   "source": [
    "ss_columns = ['sentiment', 'lng', 'lat']\n",
    "oh_columns = ['gender', 'topic']\n",
    "passthrough_columns = ['aggressive_numeric']"
   ]
  },
  {
   "cell_type": "code",
   "execution_count": 18,
   "metadata": {},
   "outputs": [],
   "source": [
    "pipeline = ColumnTransformer([\n",
    "    ('standard_scale', StandardScaler(), ss_columns),\n",
    "    ('one_hot', OneHotEncoder(), oh_columns),\n",
    "    ('pass_through', 'passthrough', passthrough_columns)\n",
    "])"
   ]
  },
  {
   "cell_type": "code",
   "execution_count": 19,
   "metadata": {},
   "outputs": [],
   "source": [
    "data_preprocessed = pipeline.fit_transform(data)"
   ]
  },
  {
   "cell_type": "code",
   "execution_count": 20,
   "metadata": {},
   "outputs": [
    {
     "data": {
      "text/plain": [
       "array([[ 1.26729633e+00, -3.66314212e-01,  2.94687695e-01, ...,\n",
       "         0.00000000e+00,  1.00000000e+00,  1.00000000e+00],\n",
       "       [-1.27359600e+00, -1.01058912e+00,  1.65723140e-01, ...,\n",
       "         0.00000000e+00,  0.00000000e+00,  1.00000000e+00],\n",
       "       [-1.32085987e+00, -4.43973028e-01,  8.93677298e-02, ...,\n",
       "         0.00000000e+00,  1.00000000e+00,  1.00000000e+00],\n",
       "       ...,\n",
       "       [ 8.35858886e-01,  6.87596346e-01,  7.55804312e-01, ...,\n",
       "         1.00000000e+00,  0.00000000e+00,  0.00000000e+00],\n",
       "       [-1.59509510e+00, -9.55083992e-01, -1.25680151e-03, ...,\n",
       "         0.00000000e+00,  0.00000000e+00,  0.00000000e+00],\n",
       "       [ 7.40790598e-01,  1.95253853e+00, -9.11725168e-01, ...,\n",
       "         0.00000000e+00,  0.00000000e+00,  0.00000000e+00]])"
      ]
     },
     "execution_count": 20,
     "metadata": {},
     "output_type": "execute_result"
    }
   ],
   "source": [
    "data_preprocessed"
   ]
  },
  {
   "cell_type": "markdown",
   "metadata": {},
   "source": [
    "### Clustering - Model Selection"
   ]
  },
  {
   "cell_type": "code",
   "execution_count": 38,
   "metadata": {},
   "outputs": [],
   "source": [
    "from sklearn.metrics import rand_score, adjusted_rand_score, davies_bouldin_score, calinski_harabasz_score \n",
    "def evaluate_model(model):\n",
    "    predictions = model.fit_predict(data_preprocessed)\n",
    "    truth = data['stance']\n",
    "    rs = rand_score(truth, predictions)\n",
    "    ars = adjusted_rand_score(truth, predictions)\n",
    "    davies_bouldin = davies_bouldin_score(data_preprocessed, predictions)\n",
    "    calinski_harabasz = calinski_harabasz_score(data_preprocessed, predictions)\n",
    "    print(f'==={model.__class__.__name__}===\\n', f'rand: {rs}\\n', f'adj. rand: {ars}\\n', f'davies-bouldin: {davies_bouldin}\\n', f'calinski-harabasz: {calinski_harabasz}')"
   ]
  },
  {
   "cell_type": "code",
   "execution_count": 39,
   "metadata": {},
   "outputs": [
    {
     "name": "stdout",
     "output_type": "stream",
     "text": [
      "===KMeans===\n",
      " rand: 0.4836177749357162\n",
      " adj. rand: 0.0016085649800600195\n",
      " davies-bouldin: 1.462535359284088\n",
      " calinski-harabasz: 2053178.2493743969\n"
     ]
    }
   ],
   "source": [
    "from sklearn.cluster import KMeans\n",
    "\n",
    "kmeans = KMeans(random_state=65, n_clusters=3)\n",
    "evaluate_model(kmeans)"
   ]
  },
  {
   "cell_type": "code",
   "execution_count": 40,
   "metadata": {},
   "outputs": [
    {
     "name": "stdout",
     "output_type": "stream",
     "text": [
      "===GaussianMixture===\n",
      " rand: 0.5216139939727356\n",
      " adj. rand: 0.051277542639701836\n",
      " davies-bouldin: 3.7065701510246094\n",
      " calinski-harabasz: 167676.99817366002\n"
     ]
    }
   ],
   "source": [
    "from sklearn.mixture import GaussianMixture\n",
    "\n",
    "gmm = GaussianMixture(n_components=3, random_state=65)\n",
    "evaluate_model(gmm)"
   ]
  },
  {
   "cell_type": "markdown",
   "metadata": {},
   "source": [
    "Spectral and Heirarchical clustering could not be included due to memory constraints."
   ]
  },
  {
   "cell_type": "markdown",
   "metadata": {},
   "source": [
    "KMeans seems to create better, well-separated clusters based on the Davies-Bouldin and Calinski-Harabasz scores, but from a true-label stand point the Gaussian Mixture model seems to perform better at distinguishing belief in climate change. "
   ]
  },
  {
   "cell_type": "markdown",
   "metadata": {},
   "source": [
    "### Clustering - Gaussian Mixture grid search"
   ]
  },
  {
   "cell_type": "markdown",
   "metadata": {},
   "source": [
    "Do a manual grid search for better clusters"
   ]
  },
  {
   "cell_type": "code",
   "execution_count": 45,
   "metadata": {},
   "outputs": [],
   "source": [
    "grid_search = {\n",
    "    'n_components': [3, 5, 10, 15],\n",
    "    'covariance_type': ['full', 'tied', 'diag', 'spherical']\n",
    "}"
   ]
  },
  {
   "cell_type": "code",
   "execution_count": 47,
   "metadata": {},
   "outputs": [
    {
     "name": "stdout",
     "output_type": "stream",
     "text": [
      "clusters: 3 | covariance: full | davies-boulin: 3.7065701510246094 | calinski-harabasz: 167676.99817366002\n",
      "clusters: 3 | covariance: tied | davies-boulin: 1.4646858604683182 | calinski-harabasz: 2005753.961080278\n",
      "clusters: 3 | covariance: diag | davies-boulin: 4.187476859944188 | calinski-harabasz: 94368.55146295796\n",
      "clusters: 3 | covariance: spherical | davies-boulin: 1.4795507551733824 | calinski-harabasz: 2028937.2181951348\n",
      "clusters: 5 | covariance: full | davies-boulin: 3.850109527255429 | calinski-harabasz: 196662.35141274775\n",
      "clusters: 5 | covariance: tied | davies-boulin: 1.6759803981988426 | calinski-harabasz: 989511.4581328537\n",
      "clusters: 5 | covariance: diag | davies-boulin: 3.555917036674713 | calinski-harabasz: 182887.13210734195\n",
      "clusters: 5 | covariance: spherical | davies-boulin: 1.5333746706896751 | calinski-harabasz: 1425350.8611858713\n",
      "clusters: 10 | covariance: full | davies-boulin: 3.0178595840972378 | calinski-harabasz: 183754.30432732974\n",
      "clusters: 10 | covariance: tied | davies-boulin: 2.3992903042262017 | calinski-harabasz: 395027.6285597207\n",
      "clusters: 10 | covariance: diag | davies-boulin: 3.356639662487903 | calinski-harabasz: 194517.92470957976\n",
      "clusters: 10 | covariance: spherical | davies-boulin: 1.7416834386999245 | calinski-harabasz: 985182.2960488294\n",
      "clusters: 15 | covariance: full | davies-boulin: 2.891445148123091 | calinski-harabasz: 125747.53029850597\n",
      "clusters: 15 | covariance: tied | davies-boulin: 2.5515386031838614 | calinski-harabasz: 208884.0741052321\n",
      "clusters: 15 | covariance: diag | davies-boulin: 3.004122859907454 | calinski-harabasz: 158992.33985611046\n",
      "clusters: 15 | covariance: spherical | davies-boulin: 1.868804129777994 | calinski-harabasz: 765726.1550015426\n"
     ]
    }
   ],
   "source": [
    "grid_search_results = []\n",
    "for n_components in grid_search['n_components']:\n",
    "    for covariance_type in grid_search['covariance_type']:\n",
    "        gmm = GaussianMixture(random_state=65, n_components=n_components, covariance_type=covariance_type)\n",
    "        predictions = gmm.fit_predict(data_preprocessed)\n",
    "        db_score = davies_bouldin_score(data_preprocessed, predictions)\n",
    "        ch_score = calinski_harabasz_score(data_preprocessed, predictions)\n",
    "        print(f'clusters: {n_components} | covariance: {covariance_type} | davies-boulin: {db_score} | calinski-harabasz: {ch_score}')\n",
    "        grid_search_results.append({\n",
    "            'clusters': n_components,\n",
    "            'covariance': covariance_type,\n",
    "            'db_score': db_score,\n",
    "            'ch_score': ch_score\n",
    "        })"
   ]
  },
  {
   "cell_type": "code",
   "execution_count": 48,
   "metadata": {},
   "outputs": [],
   "source": [
    "results_df = pd.DataFrame(grid_search_results)"
   ]
  },
  {
   "cell_type": "code",
   "execution_count": 50,
   "metadata": {},
   "outputs": [],
   "source": [
    "results_df.to_csv('data/grid_search_results.csv')"
   ]
  },
  {
   "cell_type": "code",
   "execution_count": 53,
   "metadata": {},
   "outputs": [
    {
     "data": {
      "text/html": [
       "<div>\n",
       "<style scoped>\n",
       "    .dataframe tbody tr th:only-of-type {\n",
       "        vertical-align: middle;\n",
       "    }\n",
       "\n",
       "    .dataframe tbody tr th {\n",
       "        vertical-align: top;\n",
       "    }\n",
       "\n",
       "    .dataframe thead th {\n",
       "        text-align: right;\n",
       "    }\n",
       "</style>\n",
       "<table border=\"1\" class=\"dataframe\">\n",
       "  <thead>\n",
       "    <tr style=\"text-align: right;\">\n",
       "      <th></th>\n",
       "      <th>clusters</th>\n",
       "      <th>covariance</th>\n",
       "      <th>db_score</th>\n",
       "      <th>ch_score</th>\n",
       "    </tr>\n",
       "  </thead>\n",
       "  <tbody>\n",
       "    <tr>\n",
       "      <th>1</th>\n",
       "      <td>3</td>\n",
       "      <td>tied</td>\n",
       "      <td>1.464686</td>\n",
       "      <td>2.005754e+06</td>\n",
       "    </tr>\n",
       "    <tr>\n",
       "      <th>3</th>\n",
       "      <td>3</td>\n",
       "      <td>spherical</td>\n",
       "      <td>1.479551</td>\n",
       "      <td>2.028937e+06</td>\n",
       "    </tr>\n",
       "    <tr>\n",
       "      <th>7</th>\n",
       "      <td>5</td>\n",
       "      <td>spherical</td>\n",
       "      <td>1.533375</td>\n",
       "      <td>1.425351e+06</td>\n",
       "    </tr>\n",
       "    <tr>\n",
       "      <th>5</th>\n",
       "      <td>5</td>\n",
       "      <td>tied</td>\n",
       "      <td>1.675980</td>\n",
       "      <td>9.895115e+05</td>\n",
       "    </tr>\n",
       "    <tr>\n",
       "      <th>11</th>\n",
       "      <td>10</td>\n",
       "      <td>spherical</td>\n",
       "      <td>1.741683</td>\n",
       "      <td>9.851823e+05</td>\n",
       "    </tr>\n",
       "  </tbody>\n",
       "</table>\n",
       "</div>"
      ],
      "text/plain": [
       "    clusters covariance  db_score      ch_score\n",
       "1          3       tied  1.464686  2.005754e+06\n",
       "3          3  spherical  1.479551  2.028937e+06\n",
       "7          5  spherical  1.533375  1.425351e+06\n",
       "5          5       tied  1.675980  9.895115e+05\n",
       "11        10  spherical  1.741683  9.851823e+05"
      ]
     },
     "execution_count": 53,
     "metadata": {},
     "output_type": "execute_result"
    }
   ],
   "source": [
    "results_df.sort_values(by=['db_score']).head()"
   ]
  },
  {
   "cell_type": "code",
   "execution_count": 54,
   "metadata": {},
   "outputs": [
    {
     "data": {
      "text/html": [
       "<div>\n",
       "<style scoped>\n",
       "    .dataframe tbody tr th:only-of-type {\n",
       "        vertical-align: middle;\n",
       "    }\n",
       "\n",
       "    .dataframe tbody tr th {\n",
       "        vertical-align: top;\n",
       "    }\n",
       "\n",
       "    .dataframe thead th {\n",
       "        text-align: right;\n",
       "    }\n",
       "</style>\n",
       "<table border=\"1\" class=\"dataframe\">\n",
       "  <thead>\n",
       "    <tr style=\"text-align: right;\">\n",
       "      <th></th>\n",
       "      <th>clusters</th>\n",
       "      <th>covariance</th>\n",
       "      <th>db_score</th>\n",
       "      <th>ch_score</th>\n",
       "    </tr>\n",
       "  </thead>\n",
       "  <tbody>\n",
       "    <tr>\n",
       "      <th>3</th>\n",
       "      <td>3</td>\n",
       "      <td>spherical</td>\n",
       "      <td>1.479551</td>\n",
       "      <td>2.028937e+06</td>\n",
       "    </tr>\n",
       "    <tr>\n",
       "      <th>1</th>\n",
       "      <td>3</td>\n",
       "      <td>tied</td>\n",
       "      <td>1.464686</td>\n",
       "      <td>2.005754e+06</td>\n",
       "    </tr>\n",
       "    <tr>\n",
       "      <th>7</th>\n",
       "      <td>5</td>\n",
       "      <td>spherical</td>\n",
       "      <td>1.533375</td>\n",
       "      <td>1.425351e+06</td>\n",
       "    </tr>\n",
       "    <tr>\n",
       "      <th>5</th>\n",
       "      <td>5</td>\n",
       "      <td>tied</td>\n",
       "      <td>1.675980</td>\n",
       "      <td>9.895115e+05</td>\n",
       "    </tr>\n",
       "    <tr>\n",
       "      <th>11</th>\n",
       "      <td>10</td>\n",
       "      <td>spherical</td>\n",
       "      <td>1.741683</td>\n",
       "      <td>9.851823e+05</td>\n",
       "    </tr>\n",
       "  </tbody>\n",
       "</table>\n",
       "</div>"
      ],
      "text/plain": [
       "    clusters covariance  db_score      ch_score\n",
       "3          3  spherical  1.479551  2.028937e+06\n",
       "1          3       tied  1.464686  2.005754e+06\n",
       "7          5  spherical  1.533375  1.425351e+06\n",
       "5          5       tied  1.675980  9.895115e+05\n",
       "11        10  spherical  1.741683  9.851823e+05"
      ]
     },
     "execution_count": 54,
     "metadata": {},
     "output_type": "execute_result"
    }
   ],
   "source": [
    "results_df.sort_values(by=['ch_score'], ascending=False).head()"
   ]
  },
  {
   "cell_type": "markdown",
   "metadata": {},
   "source": [
    "Pick 5 clusters with spherical covariance arbitrarily for best scores with more than 3 clusters, since we want to see if we can more groupings for more detailed analysis"
   ]
  },
  {
   "cell_type": "markdown",
   "metadata": {},
   "source": [
    "### Clustering - Final clustering"
   ]
  },
  {
   "cell_type": "code",
   "execution_count": 55,
   "metadata": {},
   "outputs": [],
   "source": [
    "final_model = GaussianMixture(random_state=65, n_components=5, covariance_type='spherical')"
   ]
  },
  {
   "cell_type": "code",
   "execution_count": 56,
   "metadata": {},
   "outputs": [],
   "source": [
    "data['cluster'] = final_model.fit_predict(data_preprocessed)"
   ]
  },
  {
   "cell_type": "code",
   "execution_count": 57,
   "metadata": {},
   "outputs": [
    {
     "data": {
      "text/html": [
       "<div>\n",
       "<style scoped>\n",
       "    .dataframe tbody tr th:only-of-type {\n",
       "        vertical-align: middle;\n",
       "    }\n",
       "\n",
       "    .dataframe tbody tr th {\n",
       "        vertical-align: top;\n",
       "    }\n",
       "\n",
       "    .dataframe thead th {\n",
       "        text-align: right;\n",
       "    }\n",
       "</style>\n",
       "<table border=\"1\" class=\"dataframe\">\n",
       "  <thead>\n",
       "    <tr style=\"text-align: right;\">\n",
       "      <th></th>\n",
       "      <th>Unnamed: 0.1</th>\n",
       "      <th>Unnamed: 0</th>\n",
       "      <th>created_at</th>\n",
       "      <th>id</th>\n",
       "      <th>lng</th>\n",
       "      <th>lat</th>\n",
       "      <th>topic</th>\n",
       "      <th>sentiment</th>\n",
       "      <th>stance</th>\n",
       "      <th>gender</th>\n",
       "      <th>temperature_avg</th>\n",
       "      <th>aggressiveness</th>\n",
       "      <th>country</th>\n",
       "      <th>aggressive_numeric</th>\n",
       "      <th>cluster</th>\n",
       "    </tr>\n",
       "  </thead>\n",
       "  <tbody>\n",
       "    <tr>\n",
       "      <th>0</th>\n",
       "      <td>0</td>\n",
       "      <td>0</td>\n",
       "      <td>2006-07-23 21:52:30+00:00</td>\n",
       "      <td>13275</td>\n",
       "      <td>-73.949582</td>\n",
       "      <td>40.650104</td>\n",
       "      <td>Weather Extremes</td>\n",
       "      <td>0.575777</td>\n",
       "      <td>neutral</td>\n",
       "      <td>undefined</td>\n",
       "      <td>-1.114768</td>\n",
       "      <td>aggressive</td>\n",
       "      <td>US</td>\n",
       "      <td>1</td>\n",
       "      <td>3</td>\n",
       "    </tr>\n",
       "    <tr>\n",
       "      <th>1</th>\n",
       "      <td>1</td>\n",
       "      <td>1</td>\n",
       "      <td>2006-12-14 01:39:10+00:00</td>\n",
       "      <td>1092823</td>\n",
       "      <td>-122.419420</td>\n",
       "      <td>37.774930</td>\n",
       "      <td>Ideological Positions on Global Warming</td>\n",
       "      <td>-0.544195</td>\n",
       "      <td>neutral</td>\n",
       "      <td>male</td>\n",
       "      <td>4.228540</td>\n",
       "      <td>aggressive</td>\n",
       "      <td>US</td>\n",
       "      <td>1</td>\n",
       "      <td>0</td>\n",
       "    </tr>\n",
       "    <tr>\n",
       "      <th>2</th>\n",
       "      <td>2</td>\n",
       "      <td>2</td>\n",
       "      <td>2006-12-17 19:43:09+00:00</td>\n",
       "      <td>1278023</td>\n",
       "      <td>-79.791980</td>\n",
       "      <td>36.072640</td>\n",
       "      <td>Weather Extremes</td>\n",
       "      <td>-0.565028</td>\n",
       "      <td>denier</td>\n",
       "      <td>male</td>\n",
       "      <td>5.478175</td>\n",
       "      <td>aggressive</td>\n",
       "      <td>US</td>\n",
       "      <td>1</td>\n",
       "      <td>0</td>\n",
       "    </tr>\n",
       "    <tr>\n",
       "      <th>3</th>\n",
       "      <td>3</td>\n",
       "      <td>3</td>\n",
       "      <td>2006-12-21 01:39:01+00:00</td>\n",
       "      <td>1455543</td>\n",
       "      <td>-121.805790</td>\n",
       "      <td>38.004920</td>\n",
       "      <td>Weather Extremes</td>\n",
       "      <td>0.650960</td>\n",
       "      <td>neutral</td>\n",
       "      <td>male</td>\n",
       "      <td>-1.652156</td>\n",
       "      <td>not aggressive</td>\n",
       "      <td>US</td>\n",
       "      <td>0</td>\n",
       "      <td>3</td>\n",
       "    </tr>\n",
       "    <tr>\n",
       "      <th>4</th>\n",
       "      <td>4</td>\n",
       "      <td>4</td>\n",
       "      <td>2006-12-31 10:47:25+00:00</td>\n",
       "      <td>1893063</td>\n",
       "      <td>-1.902691</td>\n",
       "      <td>52.479699</td>\n",
       "      <td>Weather Extremes</td>\n",
       "      <td>0.670905</td>\n",
       "      <td>neutral</td>\n",
       "      <td>male</td>\n",
       "      <td>4.864521</td>\n",
       "      <td>aggressive</td>\n",
       "      <td>GB</td>\n",
       "      <td>1</td>\n",
       "      <td>4</td>\n",
       "    </tr>\n",
       "  </tbody>\n",
       "</table>\n",
       "</div>"
      ],
      "text/plain": [
       "   Unnamed: 0.1  Unnamed: 0                 created_at       id         lng  \\\n",
       "0             0           0  2006-07-23 21:52:30+00:00    13275  -73.949582   \n",
       "1             1           1  2006-12-14 01:39:10+00:00  1092823 -122.419420   \n",
       "2             2           2  2006-12-17 19:43:09+00:00  1278023  -79.791980   \n",
       "3             3           3  2006-12-21 01:39:01+00:00  1455543 -121.805790   \n",
       "4             4           4  2006-12-31 10:47:25+00:00  1893063   -1.902691   \n",
       "\n",
       "         lat                                    topic  sentiment   stance  \\\n",
       "0  40.650104                         Weather Extremes   0.575777  neutral   \n",
       "1  37.774930  Ideological Positions on Global Warming  -0.544195  neutral   \n",
       "2  36.072640                         Weather Extremes  -0.565028   denier   \n",
       "3  38.004920                         Weather Extremes   0.650960  neutral   \n",
       "4  52.479699                         Weather Extremes   0.670905  neutral   \n",
       "\n",
       "      gender  temperature_avg  aggressiveness country  aggressive_numeric  \\\n",
       "0  undefined        -1.114768      aggressive      US                   1   \n",
       "1       male         4.228540      aggressive      US                   1   \n",
       "2       male         5.478175      aggressive      US                   1   \n",
       "3       male        -1.652156  not aggressive      US                   0   \n",
       "4       male         4.864521      aggressive      GB                   1   \n",
       "\n",
       "   cluster  \n",
       "0        3  \n",
       "1        0  \n",
       "2        0  \n",
       "3        3  \n",
       "4        4  "
      ]
     },
     "execution_count": 57,
     "metadata": {},
     "output_type": "execute_result"
    }
   ],
   "source": [
    "data.head()"
   ]
  },
  {
   "cell_type": "code",
   "execution_count": 59,
   "metadata": {},
   "outputs": [
    {
     "data": {
      "text/plain": [
       "cluster\n",
       "0    2030853\n",
       "3    1119569\n",
       "4     862147\n",
       "2     664679\n",
       "1     630290\n",
       "Name: count, dtype: int64"
      ]
     },
     "execution_count": 59,
     "metadata": {},
     "output_type": "execute_result"
    }
   ],
   "source": [
    "data['cluster'].value_counts()"
   ]
  },
  {
   "cell_type": "code",
   "execution_count": 58,
   "metadata": {},
   "outputs": [],
   "source": [
    "data.to_csv('data/clustered_data.csv')"
   ]
  },
  {
   "cell_type": "markdown",
   "metadata": {},
   "source": [
    "### Clustering Analysis"
   ]
  },
  {
   "cell_type": "code",
   "execution_count": 60,
   "metadata": {},
   "outputs": [],
   "source": [
    "data = pd.read_csv('data/clustered_data.csv')"
   ]
  },
  {
   "cell_type": "code",
   "execution_count": 61,
   "metadata": {},
   "outputs": [
    {
     "data": {
      "text/plain": [
       "(5307538, 16)"
      ]
     },
     "execution_count": 61,
     "metadata": {},
     "output_type": "execute_result"
    }
   ],
   "source": [
    "data.shape"
   ]
  },
  {
   "cell_type": "code",
   "execution_count": null,
   "metadata": {},
   "outputs": [],
   "source": []
  },
  {
   "cell_type": "code",
   "execution_count": null,
   "metadata": {},
   "outputs": [],
   "source": []
  },
  {
   "cell_type": "markdown",
   "metadata": {},
   "source": [
    "You may have done tons of work on this. Not all of it belongs here. \n",
    "\n",
    "Reports should have a __narrative__. Once you've looked through all your results over the quarter, decide on one main point and 2-4 secondary points you want us to understand. Include the detailed code and analysis results of those points only; you should spend more time/code/plots on your main point than the others.\n",
    "\n",
    "If you went down any blind alleys that you later decided to not pursue, please don't abuse the TAs time by throwing in 81 lines of code and 4 plots related to something you actually abandoned.  Consider deleting things that are not important to your narrative.  If its slightly relevant to the narrative or you just want us to know you tried something, you could keep it in by summarizing the result in this report in a sentence or two, moving the actual analysis to another file in your repo, and providing us a link to that file.\n",
    "\n",
    "### Subsection 1\n",
    "\n",
    "You will likely have different subsections as you go through your report. For instance you might start with an analysis of the dataset/problem and from there you might be able to draw out the kinds of algorithms that are / aren't appropriate to tackle the solution.  Or something else completely if this isn't the way your project works.\n",
    "\n",
    "### Subsection 2\n",
    "\n",
    "Another likely section is if you are doing any feature selection through cross-validation or hand-design/validation of features/transformations of the data\n",
    "\n",
    "### Subsection 3\n",
    "\n",
    "Probably you need to describe the base model and demonstrate its performance.  Maybe you include a learning curve to show whether you have enough data to do train/validate/test split or have to go to k-folds or LOOCV or ???\n",
    "\n",
    "### Subsection 4\n",
    "\n",
    "Perhaps some exploration of the model selection (hyper-parameters) or algorithm selection task. Validation curves, plots showing the variability of perfromance across folds of the cross-validation, etc. If you're doing one, the outcome of the null hypothesis test or parsimony principle check to show how you are selecting the best model.\n",
    "\n",
    "### Subsection 5 \n",
    "\n",
    "Maybe you do model selection again, but using a different kind of metric than before?\n",
    "\n"
   ]
  },
  {
   "cell_type": "markdown",
   "metadata": {},
   "source": [
    "# Discussion\n",
    "\n",
    "### Interpreting the result\n",
    "\n",
    "OK, you've given us quite a bit of tech informaiton above, now its time to tell us what to pay attention to in all that.  Think clearly about your results, decide on one main point and 2-4 secondary points you want us to understand. Highlight HOW your results support those points.  You probably want 2-5 sentences per point.\n",
    "\n",
    "### Limitations\n",
    "\n",
    "Are there any problems with the work?  For instance would more data change the nature of the problem? Would it be good to explore more hyperparams than you had time for?   \n",
    "\n",
    "### Ethics & Privacy\n",
    "\n",
    "The integration of machine learning (ML) in analyzing social media datasets, especially on sensitive topics as significant as climate change, necessitates a rigorous ethical and privacy framework. Our dataset “Climate Change Twitter Dataset” from Kaggle presents both an opportunity for insightful analysis and responsibility to address potential ethical and privacy concerns. In this section, we will outline our commitment to ethical research practices and privacy preservation, addressing our potential concerns and the proactive actions we are going to take.\n",
    "\n",
    "We will protect privacy and anonymity for every individual in our dataset. Though the data from Twitter is public, the dataset contains geolocation and gender information that may lead to identification of individuals. This raises concerns about the privacy of the individuals whose data are included in the dataset. We will adhere strictly to anonymizing any data used in our analysis and use geolocation data cautiously to ensure individuals cannot be identified through tweets locations. In addition, the hydrating process of tweets will be conducted with the awareness of Twitter’s privacy policy and our aim to prevent unauthorized disclosure of user information.\n",
    "\n",
    "Due to the comprehensive nature of the twitter dataset including sentiment analysis on climate change, it poses risks of misinterpretation and misuse. We will implement rigorous data interpretation guidelines to ensure that our analysis respects the complexity of human opinions and avoids misrepresentation.\n",
    "\n",
    "In order to avoid potential bias within our dataset, the diverse methodologies used to generate the dataset (e.g., BERT, LSTM, CNN) are not immune to biases present in the underlying data or in the algorithms themselves. We commit to actively seeking out and mitigating these biases, ensuring our analysis promotes fairness and accuracy. Our team will conduct regular reviews of our models and methodologies to identify and correct for biases, ensuring our work contributes positively to the discourse around climate change and social media analysis. Tools like Deon will be used to systematically address ethical issues throughout the project lifecycle. This includes careful consideration of the ethical implications of data collection, analysis, and dissemination. \n",
    "\n",
    "We acknowledge that there may be unintended consequences as a result of our data analysis. We will take special care to avoid any analysis that could be used to target or discriminate against individuals based on their opinions, gender, nationalities, or any other attribute. Furthermore, while Twitter is a public platform, the users' informed consent for this specific form of data analysis and aggregation might not have been obtained. Our project will acknowledge this limitation and the ethical implications of using publicly available data for research purposes, citing the original papers as required and providing transparency about our research intentions and methods.\n",
    "\n",
    "We are committed to transparency in our research and will offer both a summary and comprehensive details of the procedures we undertake in our analysis, along with any issues that might emerge during this process. The main objective of our project is to enhance public and environmental safety and reduce any possible negative impacts.\n",
    "\n",
    "\n",
    "### Conclusion\n",
    "\n",
    "Reiterate your main point and in just a few sentences tell us how your results support it. Mention how this work would fit in the background/context of other work in this field if you can. Suggest directions for future work if you want to."
   ]
  },
  {
   "cell_type": "markdown",
   "metadata": {},
   "source": [
    "# Footnotes\n",
    "<a name=\"ipccnote\"></a>1.[^](#ipcc):  Intergovernmental Panel on Climate Change. (2021). Climate Change 2021: The Physical Science Basis. Contribution of Working Group I to the Sixth Assessment Report of the Intergovernmental Panel on Climate Change. [IPCC]. https://www.ipcc.ch/report/ar6/wg1/\n",
    "<br> \n",
    "<a name=\"article2note\"></a>2.[^](#article2): Effrosynidis, D., Sylaios, G., & Arampatzis, A. (2022). Exploring climate change on Twitter using seven aspects: Stance, sentiment, aggressiveness, temperature, gender, topics, and disasters. PLOS ONE, 17(9), e0274213. https://doi.org/10.1371/journal.pone.0274213<br>\n",
    "<a name=\"article3note\"></a>3.[^](#article3): Effrosynidis, D., Karasakalidis, A. I., Sylaios, G., & Arampatzis, A. (2022). The climate change Twitter dataset. Expert Systems with Applications, 204, 117541. https://doi.org/10.1016/j.eswa.2022.117541\n"
   ]
  },
  {
   "cell_type": "code",
   "execution_count": null,
   "metadata": {},
   "outputs": [],
   "source": []
  }
 ],
 "metadata": {
  "kernelspec": {
   "display_name": "Python 3 (ipykernel)",
   "language": "python",
   "name": "python3"
  },
  "language_info": {
   "codemirror_mode": {
    "name": "ipython",
    "version": 3
   },
   "file_extension": ".py",
   "mimetype": "text/x-python",
   "name": "python",
   "nbconvert_exporter": "python",
   "pygments_lexer": "ipython3",
   "version": "3.10.12"
  }
 },
 "nbformat": 4,
 "nbformat_minor": 4
}
